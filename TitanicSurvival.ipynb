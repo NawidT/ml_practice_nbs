{
  "nbformat": 4,
  "nbformat_minor": 0,
  "metadata": {
    "colab": {
      "provenance": [],
      "authorship_tag": "ABX9TyODugAMQUh2vRVHv1+aw2sT"
    },
    "kernelspec": {
      "name": "python3",
      "display_name": "Python 3"
    },
    "language_info": {
      "name": "python"
    }
  },
  "cells": [
    {
      "cell_type": "markdown",
      "source": [
        "# Model Development Life Cycle (MDLC)\n",
        "\n",
        "- **Requirements**\n",
        "  - I want to build a predictor/classifier for survivors on Titanic\n",
        "- **Design**\n",
        "  - N/A\n",
        "- **Collect**\n",
        "  - use the Titanic-Dataset.csv from Kaggle (https://www.kaggle.com/datasets/yasserh/titanic-dataset?resource=download)\n",
        "- Test, Tune, Train\n",
        "- Deploy"
      ],
      "metadata": {
        "id": "zJexDPge6Hex"
      }
    },
    {
      "cell_type": "markdown",
      "source": [
        "# Collection\n"
      ],
      "metadata": {
        "id": "3znRBAHAsaJr"
      }
    },
    {
      "cell_type": "code",
      "execution_count": null,
      "metadata": {
        "colab": {
          "base_uri": "https://localhost:8080/"
        },
        "id": "rcuI_l5vsYIv",
        "outputId": "1e84278c-4ee3-49a7-90a5-f0dc67c28221"
      },
      "outputs": [
        {
          "output_type": "execute_result",
          "data": {
            "text/plain": [
              "891"
            ]
          },
          "metadata": {},
          "execution_count": 132
        }
      ],
      "source": [
        "import pandas as pd\n",
        "from sklearn.model_selection import train_test_split\n",
        "\n",
        "\n",
        "df = pd.read_csv('Titanic-Dataset.csv')\n",
        "df.head()\n",
        "len(df)"
      ]
    },
    {
      "cell_type": "code",
      "source": [
        "df = df.drop(columns=['PassengerId', 'Ticket', 'Cabin'])\n",
        "\n",
        "df.columns"
      ],
      "metadata": {
        "colab": {
          "base_uri": "https://localhost:8080/"
        },
        "id": "4cOEiFDR0pEX",
        "outputId": "b2fa599c-aac2-49d5-ca3e-d8803a1478cc"
      },
      "execution_count": null,
      "outputs": [
        {
          "output_type": "execute_result",
          "data": {
            "text/plain": [
              "Index(['Survived', 'Pclass', 'Name', 'Sex', 'Age', 'SibSp', 'Parch', 'Fare',\n",
              "       'Embarked'],\n",
              "      dtype='object')"
            ]
          },
          "metadata": {},
          "execution_count": 133
        }
      ]
    },
    {
      "cell_type": "code",
      "source": [
        "df[df['Age'].isna() == False]['Age']\n",
        "\n",
        "df = df.dropna()\n",
        "len(df)"
      ],
      "metadata": {
        "colab": {
          "base_uri": "https://localhost:8080/"
        },
        "id": "LLV1tJQQNmOx",
        "outputId": "a59eaebf-09e5-4acc-ce68-a2f8bfb5c516"
      },
      "execution_count": null,
      "outputs": [
        {
          "output_type": "execute_result",
          "data": {
            "text/plain": [
              "712"
            ]
          },
          "metadata": {},
          "execution_count": 134
        }
      ]
    },
    {
      "cell_type": "markdown",
      "source": [
        "## Data Cleaning and Pre-processing"
      ],
      "metadata": {
        "id": "TWsI_0Jh0gQ2"
      }
    },
    {
      "cell_type": "markdown",
      "source": [
        "Notable Features:\n",
        "- Pclass : represents the passenger class as 3,2, or 1, we know higher classed passengers got priority\n",
        "- Sex : gender of the passenger, we know women got priority\n",
        "- Age : age of the passenger in years, we know children and elders got priority\n",
        "- SibSp : a count of number of siblings/spouse (horizontal relation)\n",
        "- Parch : count of parent/children (vertical relation)\n",
        "- Embarked : port of entry Southampton (S), Cherbourg (C), Queenstown (Q)\n",
        "- Fare : dollars paid for trip\n",
        "\n",
        "Features Removed:\n",
        "- Cabin : not descriptive, can be represented by \"Class\"\n",
        "- Ticket : acts as a unique ID, not useful"
      ],
      "metadata": {
        "id": "Ggh2pXlo78F5"
      }
    },
    {
      "cell_type": "code",
      "source": [
        "# we are predicting the survived param (boolean 0 or 1)\n",
        "# this is a classification problem\n",
        "\n",
        "# notable params = Pclass (3, 2, 1), Sex (male, female), Age, SibSp, Parch, Embarked (S, C, Q)\n",
        "\n",
        "df['Sex'].value_counts()"
      ],
      "metadata": {
        "colab": {
          "base_uri": "https://localhost:8080/",
          "height": 178
        },
        "id": "Iad0gF4O06_g",
        "outputId": "9faaaa02-4da7-4d4f-fbb6-0fa81fac6b65",
        "collapsed": true
      },
      "execution_count": null,
      "outputs": [
        {
          "output_type": "execute_result",
          "data": {
            "text/plain": [
              "Sex\n",
              "male      453\n",
              "female    259\n",
              "Name: count, dtype: int64"
            ],
            "text/html": [
              "<div>\n",
              "<style scoped>\n",
              "    .dataframe tbody tr th:only-of-type {\n",
              "        vertical-align: middle;\n",
              "    }\n",
              "\n",
              "    .dataframe tbody tr th {\n",
              "        vertical-align: top;\n",
              "    }\n",
              "\n",
              "    .dataframe thead th {\n",
              "        text-align: right;\n",
              "    }\n",
              "</style>\n",
              "<table border=\"1\" class=\"dataframe\">\n",
              "  <thead>\n",
              "    <tr style=\"text-align: right;\">\n",
              "      <th></th>\n",
              "      <th>count</th>\n",
              "    </tr>\n",
              "    <tr>\n",
              "      <th>Sex</th>\n",
              "      <th></th>\n",
              "    </tr>\n",
              "  </thead>\n",
              "  <tbody>\n",
              "    <tr>\n",
              "      <th>male</th>\n",
              "      <td>453</td>\n",
              "    </tr>\n",
              "    <tr>\n",
              "      <th>female</th>\n",
              "      <td>259</td>\n",
              "    </tr>\n",
              "  </tbody>\n",
              "</table>\n",
              "</div><br><label><b>dtype:</b> int64</label>"
            ]
          },
          "metadata": {},
          "execution_count": 135
        }
      ]
    },
    {
      "cell_type": "markdown",
      "source": [
        "## Feature Visualization, Engineering and Selection\n"
      ],
      "metadata": {
        "id": "1tJJT0shzdHC"
      }
    },
    {
      "cell_type": "markdown",
      "source": [
        "### Exploratory Data Analysis (EDA)"
      ],
      "metadata": {
        "id": "Pj_Lu9vpWYU4"
      }
    },
    {
      "cell_type": "code",
      "source": [
        "import matplotlib.pyplot as plt\n",
        "\n",
        "survivors_by_class = df[df['Survived'] == 1]['Sex'].value_counts().sort_index()\n",
        "X = survivors_by_class.index\n",
        "y = survivors_by_class.values\n",
        "\n",
        "# plt.plot(X, y, \"bo\")\n",
        "plt.bar(X, y, align='center')\n",
        "plt.xlabel(\"Sex\")\n",
        "plt.ylabel(\"Num survivors\")\n",
        "plt.show()"
      ],
      "metadata": {
        "colab": {
          "base_uri": "https://localhost:8080/",
          "height": 449
        },
        "id": "NIXWSn8z8362",
        "outputId": "7b7bc863-1744-426f-8fbd-fc2e0cb01bea"
      },
      "execution_count": null,
      "outputs": [
        {
          "output_type": "display_data",
          "data": {
            "text/plain": [
              "<Figure size 640x480 with 1 Axes>"
            ],
            "image/png": "[encoded data removed]"
          },
          "metadata": {}
        }
      ]
    },
    {
      "cell_type": "code",
      "source": [
        "survivors_by_class = df[df['Survived'] == 1]['Pclass']\n",
        "\n",
        "plt.hist(\n",
        "    x=survivors_by_class,\n",
        "    bins=[1, 2, 3, 4],\n",
        "    weights=survivors_by_class,\n",
        "    histtype='bar',\n",
        "    align='left',\n",
        "    rwidth=0.5\n",
        ")\n",
        "plt.show()"
      ],
      "metadata": {
        "colab": {
          "base_uri": "https://localhost:8080/",
          "height": 430
        },
        "id": "eUVfvqIQAxOs",
        "outputId": "9a9b9762-748a-4e5e-e286-69e5b08b6d05"
      },
      "execution_count": null,
      "outputs": [
        {
          "output_type": "display_data",
          "data": {
            "text/plain": [
              "<Figure size 640x480 with 1 Axes>"
            ],
            "image/png": "[encoded data removed]"
          },
          "metadata": {}
        }
      ]
    },
    {
      "cell_type": "code",
      "source": [
        "plt.plot(\n",
        "    df[df['Survived'] == 0]['Parch'],\n",
        "    df[df['Survived'] == 0]['SibSp'],\n",
        "    \"ro\"\n",
        ")\n",
        "\n",
        "plt.xlabel(\"Parch\")\n",
        "plt.ylabel(\"SibSp\")\n",
        "\n",
        "plt.show()"
      ],
      "metadata": {
        "colab": {
          "base_uri": "https://localhost:8080/",
          "height": 449
        },
        "id": "VuWtE5c_CgZW",
        "outputId": "1510dd73-97aa-48e7-92ef-411467807d15"
      },
      "execution_count": null,
      "outputs": [
        {
          "output_type": "display_data",
          "data": {
            "text/plain": [
              "<Figure size 640x480 with 1 Axes>"
            ],
            "image/png": "[encoded data removed]"
          },
          "metadata": {}
        }
      ]
    },
    {
      "cell_type": "code",
      "source": [
        "from sklearn.feature_selection import r_regression\n",
        "\n",
        "pearson_correlation_coefficient = r_regression(\n",
        "    df[df['Survived'] == 0][['Parch']],\n",
        "    df[df['Survived'] == 0]['SibSp'],\n",
        ")\n",
        "\n",
        "pearson_correlation_coefficient[0]"
      ],
      "metadata": {
        "colab": {
          "base_uri": "https://localhost:8080/"
        },
        "id": "klKXP8YWD0H3",
        "outputId": "a60215a9-eba4-4c3f-9b50-ff1d6236a518"
      },
      "execution_count": null,
      "outputs": [
        {
          "output_type": "execute_result",
          "data": {
            "text/plain": [
              "0.43403529179448475"
            ]
          },
          "metadata": {},
          "execution_count": 139
        }
      ]
    },
    {
      "cell_type": "markdown",
      "source": [
        "From above we can tell there is no clear correlation between Parch and SibSp, but what if we combine them..."
      ],
      "metadata": {
        "id": "EettXyrVDGRO"
      }
    },
    {
      "cell_type": "code",
      "source": [
        "df['TotalFam'] = df['SibSp'] + df['Parch']\n",
        "survivors_by_famcount = df[df['Survived'] == 1]['TotalFam'].value_counts().sort_index()\n",
        "\n",
        "\n",
        "plt.bar(\n",
        "    survivors_by_famcount.index,\n",
        "    survivors_by_famcount.values,\n",
        ")\n",
        "plt.show()\n",
        "\n",
        "pearson_correlation_coefficient = r_regression(\n",
        "    df[['TotalFam']],\n",
        "    df['Survived']\n",
        ")\n",
        "\n",
        "print(\"pearson coeff: \", pearson_correlation_coefficient[0])"
      ],
      "metadata": {
        "colab": {
          "base_uri": "https://localhost:8080/",
          "height": 447
        },
        "id": "bBMtMe3-GIbk",
        "outputId": "e86af918-1c49-43b1-e44d-1dd6cff094e9"
      },
      "execution_count": null,
      "outputs": [
        {
          "output_type": "display_data",
          "data": {
            "text/plain": [
              "<Figure size 640x480 with 1 Axes>"
            ],
            "image/png": "[encoded data removed]"
          },
          "metadata": {}
        },
        {
          "output_type": "stream",
          "name": "stdout",
          "text": [
            "pearson coeff:  0.045067660482632645\n"
          ]
        }
      ]
    },
    {
      "cell_type": "markdown",
      "source": [
        "Now this seems like there is a correlation here but, if you flip the survived boolean you will see a similar curve, explaining the low pearson score"
      ],
      "metadata": {
        "id": "2X7Y6jxlIcFS"
      }
    },
    {
      "cell_type": "code",
      "source": [
        "pearson_correlation_coefficient = r_regression(\n",
        "    df[['Fare', 'Age']],\n",
        "    df['Survived']\n",
        ")\n",
        "pearson_correlation_coefficient"
      ],
      "metadata": {
        "colab": {
          "base_uri": "https://localhost:8080/"
        },
        "id": "FzNXga_ZNTI9",
        "outputId": "60ac1467-782f-46e5-ed43-494de913db78"
      },
      "execution_count": null,
      "outputs": [
        {
          "output_type": "execute_result",
          "data": {
            "text/plain": [
              "array([ 0.2660996 , -0.08244587])"
            ]
          },
          "metadata": {},
          "execution_count": 141
        }
      ]
    },
    {
      "cell_type": "code",
      "source": [],
      "metadata": {
        "id": "lpbOLISaNhqd"
      },
      "execution_count": null,
      "outputs": []
    },
    {
      "cell_type": "markdown",
      "source": [
        "## Train Test Split"
      ],
      "metadata": {
        "id": "SH_0MgqIzaWt"
      }
    },
    {
      "cell_type": "code",
      "source": [
        "X = pd.DataFrame(df.drop(['Survived'], axis=1))\n",
        "y = pd.DataFrame(df['Survived'])\n",
        "x_train, x_test, y_train, y_test = train_test_split(df, test_size=0.15)\n",
        "\n",
        "\n",
        "x_train"
      ],
      "metadata": {
        "id": "uUaT-H7QyX6K"
      },
      "execution_count": null,
      "outputs": []
    }
  ]
}